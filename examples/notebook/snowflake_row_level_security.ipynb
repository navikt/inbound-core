{
 "cells": [
  {
   "cell_type": "code",
   "execution_count": 1,
   "metadata": {},
   "outputs": [],
   "source": [
    "import snowflake.connector\n",
    "from snowflake.connector.pandas_tools import write_pandas\n",
    "import random\n",
    "\n",
    "import pandas as pd\n",
    "import numpy as np\n",
    "import os"
   ]
  },
  {
   "cell_type": "markdown",
   "metadata": {},
   "source": [
    "## Create test data"
   ]
  },
  {
   "cell_type": "code",
   "execution_count": 4,
   "metadata": {},
   "outputs": [],
   "source": [
    "import json\n",
    "data = json.load(open(\"./addresses.json\"))\n",
    "df_addresses = pd.DataFrame(data[\"addresses\"])\n",
    "df_states = pd.read_csv(\"./states.csv\", sep=\";\")\n",
    "df_states.columns=[\"state_name\", \"state\"]\n",
    "df = pd.merge(df_addresses, df_states, on=\"state\")[[\"state_name\", \"city\", \"postalCode\"]].astype(str)\n",
    "df.columns=[\"state\", \"city\", \"location\"]\n",
    "df[\"value\"] = np.random.randint(100,1000,len(df))\n",
    "df.insert(loc=0, column=\"id\", value=range(0, len(df)))\n",
    "df.to_csv(\"./locations.csv\", encoding=\"utf-8\", sep=\"|\")"
   ]
  },
  {
   "cell_type": "code",
   "execution_count": 3,
   "metadata": {},
   "outputs": [
    {
     "data": {
      "text/html": [
       "<div>\n",
       "<style scoped>\n",
       "    .dataframe tbody tr th:only-of-type {\n",
       "        vertical-align: middle;\n",
       "    }\n",
       "\n",
       "    .dataframe tbody tr th {\n",
       "        vertical-align: top;\n",
       "    }\n",
       "\n",
       "    .dataframe thead th {\n",
       "        text-align: right;\n",
       "    }\n",
       "</style>\n",
       "<table border=\"1\" class=\"dataframe\">\n",
       "  <thead>\n",
       "    <tr style=\"text-align: right;\">\n",
       "      <th></th>\n",
       "      <th>id</th>\n",
       "      <th>state</th>\n",
       "      <th>city</th>\n",
       "      <th>location</th>\n",
       "      <th>value</th>\n",
       "    </tr>\n",
       "  </thead>\n",
       "  <tbody>\n",
       "    <tr>\n",
       "      <th>3025</th>\n",
       "      <td>3025</td>\n",
       "      <td>Florida</td>\n",
       "      <td>Panama City Beach</td>\n",
       "      <td>32408</td>\n",
       "      <td>957</td>\n",
       "    </tr>\n",
       "    <tr>\n",
       "      <th>3026</th>\n",
       "      <td>3026</td>\n",
       "      <td>Florida</td>\n",
       "      <td>Panama City Beach</td>\n",
       "      <td>32407</td>\n",
       "      <td>172</td>\n",
       "    </tr>\n",
       "  </tbody>\n",
       "</table>\n",
       "</div>"
      ],
      "text/plain": [
       "        id    state               city location  value\n",
       "3025  3025  Florida  Panama City Beach    32408    957\n",
       "3026  3026  Florida  Panama City Beach    32407    172"
      ]
     },
     "execution_count": 3,
     "metadata": {},
     "output_type": "execute_result"
    }
   ],
   "source": [
    "df.tail(2)"
   ]
  },
  {
   "cell_type": "markdown",
   "metadata": {},
   "source": [
    "## Create database"
   ]
  },
  {
   "cell_type": "code",
   "execution_count": 124,
   "metadata": {},
   "outputs": [],
   "source": [
    "con = snowflake.connector.connect(\n",
    "    user=os.getenv(\"SNOWFLAKE_DATAPRODUCT_USER\"),\n",
    "    password=os.getenv(\"SNOWFLAKE_DATAPRODUCT_PASSWORD\"),\n",
    "    account=(\n",
    "        os.getenv(\"SNOWFLAKE_DATAPRODUCT_ACCOUNT\")\n",
    "        + \".\"\n",
    "        + os.getenv(\"SNOWFLAKE_DATAPRODUCT_REGION\")\n",
    "    ),\n",
    "    role=\"vdl_dataproduct_role\",\n",
    "    warehouse=\"vdl_dataproduct_warehouse\"\n",
    ")"
   ]
  },
  {
   "cell_type": "code",
   "execution_count": 127,
   "metadata": {},
   "outputs": [],
   "source": [
    "def create_warehouse_database_and_schema(db):\n",
    "    db.execute(\"CREATE WAREHOUSE IF NOT EXISTS test_warehouse\")\n",
    "    db.execute(\"CREATE DATABASE IF NOT EXISTS testdb\")\n",
    "    db.execute(\"USE DATABASE testdb\")\n",
    "    db.execute(\"CREATE SCHEMA IF NOT EXISTS testschema\")\n",
    "    db.execute(\"CREATE SCHEMA IF NOT EXISTS security\")\n",
    "\n",
    "    db.execute(\"USE WAREHOUSE test_warehouse\")\n",
    "    db.execute(\"USE SCHEMA testdb.testschema\")\n",
    "    db.execute(f\"USE ROLE vdl_dataproduct_role\")\n",
    "\n",
    "\n",
    "def drop_warehouse_database_and_schema(db):\n",
    "    db.execute(\"DROP SCHEMA IF EXISTS testschema\")\n",
    "    db.execute(\"DROP DATABASE IF EXISTS testdb\")\n",
    "    db.execute(\"DROP WAREHOUSE IF EXISTS test_warehouse\")\n",
    "\n"
   ]
  },
  {
   "cell_type": "code",
   "execution_count": 128,
   "metadata": {},
   "outputs": [],
   "source": [
    "with con.cursor() as cur:\n",
    "    create_warehouse_database_and_schema(cur)"
   ]
  },
  {
   "cell_type": "code",
   "execution_count": 165,
   "metadata": {},
   "outputs": [
    {
     "data": {
      "text/html": [
       "<div>\n",
       "<style scoped>\n",
       "    .dataframe tbody tr th:only-of-type {\n",
       "        vertical-align: middle;\n",
       "    }\n",
       "\n",
       "    .dataframe tbody tr th {\n",
       "        vertical-align: top;\n",
       "    }\n",
       "\n",
       "    .dataframe thead th {\n",
       "        text-align: right;\n",
       "    }\n",
       "</style>\n",
       "<table border=\"1\" class=\"dataframe\">\n",
       "  <thead>\n",
       "    <tr style=\"text-align: right;\">\n",
       "      <th></th>\n",
       "      <th>id</th>\n",
       "      <th>state</th>\n",
       "      <th>city</th>\n",
       "      <th>location</th>\n",
       "      <th>value</th>\n",
       "    </tr>\n",
       "  </thead>\n",
       "  <tbody>\n",
       "    <tr>\n",
       "      <th>0</th>\n",
       "      <td>0</td>\n",
       "      <td>District of Columbia</td>\n",
       "      <td>Washington</td>\n",
       "      <td>20020</td>\n",
       "      <td>2892</td>\n",
       "    </tr>\n",
       "  </tbody>\n",
       "</table>\n",
       "</div>"
      ],
      "text/plain": [
       "   id                 state        city location  value\n",
       "0   0  District of Columbia  Washington    20020   2892"
      ]
     },
     "execution_count": 165,
     "metadata": {},
     "output_type": "execute_result"
    }
   ],
   "source": [
    "df.head(1)"
   ]
  },
  {
   "cell_type": "code",
   "execution_count": 308,
   "metadata": {},
   "outputs": [],
   "source": [
    "with con.cursor() as cur:\n",
    "\n",
    "    sql = \"\"\"\n",
    "            create or replace table transactions (\n",
    "            id       number,\n",
    "            state    varchar,\n",
    "            city     varchar,\n",
    "            location varchar,\n",
    "            value    number       \n",
    "            );\n",
    "        \"\"\"\n",
    "\n",
    "    cur.execute(sql)\n",
    "\n",
    "    sql = \"\"\"\n",
    "            create or replace table security.states (\n",
    "            role     varchar,\n",
    "            state    varchar\n",
    "            );\n",
    "        \"\"\"\n",
    "\n",
    "    cur.execute(sql)\n",
    "\n",
    "    sql = \"\"\"\n",
    "            create or replace table security.cities (\n",
    "            role    varchar,\n",
    "            city    varchar\n",
    "            );\n",
    "        \"\"\"\n",
    "\n",
    "    cur.execute(sql)\n",
    "\n",
    "    sql = \"\"\"\n",
    "            create or replace table security.locations (\n",
    "            role      varchar,\n",
    "            location  varchar\n",
    "            );\n",
    "        \"\"\"\n",
    "        \n",
    "    cur.execute(sql)"
   ]
  },
  {
   "cell_type": "code",
   "execution_count": 309,
   "metadata": {},
   "outputs": [
    {
     "name": "stdout",
     "output_type": "stream",
     "text": [
      "True 1 3027\n"
     ]
    }
   ],
   "source": [
    "\n",
    "success, nchunks, nrows, _ = write_pandas(con, df, \"TRANSACTIONS\", quote_identifiers=False)\n",
    "print(success, nchunks, nrows)"
   ]
  },
  {
   "cell_type": "code",
   "execution_count": 310,
   "metadata": {},
   "outputs": [
    {
     "name": "stdout",
     "output_type": "stream",
     "text": [
      "True 1 15\n"
     ]
    }
   ],
   "source": [
    "states = df[\"state\"].unique()\n",
    "df_states = pd.DataFrame()\n",
    "df_states[\"role\"] = states\n",
    "df_states[\"state\"] = states\n",
    "success, nchunks, nrows, _ = write_pandas(con, df_states, \"STATES\", schema=\"SECURITY\", quote_identifiers=False)\n",
    "print(success, nchunks, nrows)"
   ]
  },
  {
   "cell_type": "code",
   "execution_count": 311,
   "metadata": {},
   "outputs": [
    {
     "name": "stdout",
     "output_type": "stream",
     "text": [
      "True 1 414\n"
     ]
    }
   ],
   "source": [
    "cities = df[\"city\"].unique()\n",
    "df_cities = pd.DataFrame()\n",
    "df_cities[\"role\"] = cities\n",
    "df_cities[\"city\"] = cities\n",
    "success, nchunks, nrows, _ = write_pandas(con, df_cities, \"CITIES\", schema=\"SECURITY\", quote_identifiers=False)\n",
    "print(success, nchunks, nrows)"
   ]
  },
  {
   "cell_type": "code",
   "execution_count": 312,
   "metadata": {},
   "outputs": [
    {
     "name": "stdout",
     "output_type": "stream",
     "text": [
      "True 1 667\n"
     ]
    }
   ],
   "source": [
    "locations = df[\"location\"].unique()\n",
    "df_location = pd.DataFrame()\n",
    "df_location[\"role\"] = locations\n",
    "df_location[\"location\"] = locations\n",
    "success, nchunks, nrows, _ = write_pandas(con, df_location, \"LOCATIONS\", schema=\"SECURITY\", quote_identifiers=False)\n",
    "print(success, nchunks, nrows)"
   ]
  },
  {
   "cell_type": "code",
   "execution_count": 313,
   "metadata": {},
   "outputs": [],
   "source": [
    "sql = \"\"\"\n",
    "    create or replace row access policy security.transactions_policy as (state_name varchar, city_name varchar, location_name varchar) returns boolean ->\n",
    "    exists (\n",
    "            select 1 from security.states\n",
    "            where upper(role) in (select upper(NAME) from security.current_roles where ROLE_NAME = current_role())\n",
    "                and state = state_name\n",
    "    )\n",
    "    or exists (\n",
    "        select 1 from security.cities\n",
    "        where upper(role) in (select upper(NAME) from security.current_roles where ROLE_NAME = current_role())\n",
    "            and city = city_name\n",
    "    )\n",
    "    or exists (\n",
    "        select 1 from security.locations\n",
    "        where upper(role) in (select upper(NAME) from security.current_roles where ROLE_NAME = current_role())\n",
    "            and location = location_name\n",
    "    )\n",
    "    ;\n",
    "\"\"\"\n",
    "\n",
    "with con.cursor() as cur:\n",
    "    cur.execute(sql)"
   ]
  },
  {
   "cell_type": "code",
   "execution_count": 314,
   "metadata": {},
   "outputs": [],
   "source": [
    "with con.cursor() as cur:\n",
    "    cur.execute(\"alter table transactions add row access policy security.transactions_policy on (state, city, location);\")"
   ]
  },
  {
   "cell_type": "markdown",
   "metadata": {},
   "source": [
    "\"\"\" HACK\n",
    "\n",
    "Snapshot all roles granted to the user or role:\n",
    "\n",
    "show grants to role vdl_dataproduct_role;\n",
    "create or replace table testdb.security.current_roles as with roles as (select \"name\"\n",
    "from table(result_scan(last_query_id()))\n",
    "where \"granted_on\" = 'ROLE') select 'VDL_DATAPRODUCT_ROLE' as role_name,\"name\" as name from roles;"
   ]
  },
  {
   "cell_type": "markdown",
   "metadata": {},
   "source": [
    "## Test policy"
   ]
  },
  {
   "cell_type": "code",
   "execution_count": 319,
   "metadata": {},
   "outputs": [
    {
     "data": {
      "text/html": [
       "<div>\n",
       "<style scoped>\n",
       "    .dataframe tbody tr th:only-of-type {\n",
       "        vertical-align: middle;\n",
       "    }\n",
       "\n",
       "    .dataframe tbody tr th {\n",
       "        vertical-align: top;\n",
       "    }\n",
       "\n",
       "    .dataframe thead th {\n",
       "        text-align: right;\n",
       "    }\n",
       "</style>\n",
       "<table border=\"1\" class=\"dataframe\">\n",
       "  <thead>\n",
       "    <tr style=\"text-align: right;\">\n",
       "      <th></th>\n",
       "      <th>ROLE_NAME</th>\n",
       "      <th>NAME</th>\n",
       "    </tr>\n",
       "  </thead>\n",
       "  <tbody>\n",
       "    <tr>\n",
       "      <th>0</th>\n",
       "      <td>VDL_DATAPRODUCT_ROLE</td>\n",
       "      <td>ALASKA</td>\n",
       "    </tr>\n",
       "    <tr>\n",
       "      <th>1</th>\n",
       "      <td>VDL_DATAPRODUCT_ROLE</td>\n",
       "      <td>WASHINGTON</td>\n",
       "    </tr>\n",
       "  </tbody>\n",
       "</table>\n",
       "</div>"
      ],
      "text/plain": [
       "              ROLE_NAME        NAME\n",
       "0  VDL_DATAPRODUCT_ROLE      ALASKA\n",
       "1  VDL_DATAPRODUCT_ROLE  WASHINGTON"
      ]
     },
     "execution_count": 319,
     "metadata": {},
     "output_type": "execute_result"
    }
   ],
   "source": [
    "with con.cursor() as cur:\n",
    "    sql = \"select * from security.current_roles\"\n",
    "    cur.execute(sql)\n",
    "    df_res = cur.fetch_pandas_all()\n",
    "\n",
    "df_res"
   ]
  },
  {
   "cell_type": "code",
   "execution_count": 321,
   "metadata": {},
   "outputs": [
    {
     "name": "stdout",
     "output_type": "stream",
     "text": [
      "   ID                 STATE        CITY LOCATION  VALUE\n",
      "0   0  District of Columbia  Washington    20020   2892\n",
      "1   1  District of Columbia  Washington    20001   2892\n",
      "2   2  District of Columbia  Washington    20011   2892\n",
      "3   3  District of Columbia  Washington    20016   2892\n",
      "4   4  District of Columbia  Washington    20003   2892\n",
      "5   5  District of Columbia  Washington    20012   2892\n",
      "6   6  District of Columbia  Washington    20003   2892\n",
      "7   7  District of Columbia  Washington    20002   2892\n",
      "8   8  District of Columbia  Washington    20001   2892\n",
      "9   9  District of Columbia  Washington    20011   2892\n",
      "       ID   STATE       CITY LOCATION  VALUE\n",
      "361  2447  Alaska  Anchorage    99507   2892\n",
      "362  2448  Alaska  Anchorage    99577   2892\n",
      "363  2449  Alaska  Anchorage    99577   2892\n",
      "364  2450  Alaska  Anchorage    99518   2892\n",
      "365  2451  Alaska  Anchorage    99507   2892\n",
      "366  2452  Alaska  Anchorage    99504   2892\n",
      "367  2453  Alaska  Anchorage    99577   2892\n",
      "368  2454  Alaska  Anchorage    99508   2892\n",
      "369  2455  Alaska  Anchorage    99507   2892\n",
      "370  2456  Alaska  Anchorage    99504   2892\n"
     ]
    }
   ],
   "source": [
    "with con.cursor() as cur:\n",
    "    sql = \"select * from transactions\"\n",
    "    cur.execute(sql)\n",
    "    df_res = cur.fetch_pandas_all()\n",
    "\n",
    "print(df_res.head(10))\n",
    "print(df_res.tail(10))\n",
    "\n"
   ]
  },
  {
   "cell_type": "markdown",
   "metadata": {},
   "source": [
    "## Cleanup"
   ]
  },
  {
   "cell_type": "code",
   "execution_count": 334,
   "metadata": {},
   "outputs": [],
   "source": [
    "with con.cursor() as cur:\n",
    "    drop_warehouse_database_and_schema(cur)"
   ]
  }
 ],
 "metadata": {
  "kernelspec": {
   "display_name": "Python 3.9.13 ('.venv': venv)",
   "language": "python",
   "name": "python3"
  },
  "language_info": {
   "codemirror_mode": {
    "name": "ipython",
    "version": 3
   },
   "file_extension": ".py",
   "mimetype": "text/x-python",
   "name": "python",
   "nbconvert_exporter": "python",
   "pygments_lexer": "ipython3",
   "version": "3.9.12"
  },
  "orig_nbformat": 4,
  "vscode": {
   "interpreter": {
    "hash": "62f026912ebec30755d22cae891b924025f5e2a9bfc90b65d0f81fd092db2c71"
   }
  }
 },
 "nbformat": 4,
 "nbformat_minor": 2
}
