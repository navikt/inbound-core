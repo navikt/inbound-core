{
 "cells": [
  {
   "cell_type": "code",
   "execution_count": 1,
   "metadata": {},
   "outputs": [],
   "source": [
    "# pip install git+https://github.com/navikt/inbound@main"
   ]
  },
  {
   "cell_type": "code",
   "execution_count": 2,
   "metadata": {},
   "outputs": [],
   "source": [
    "import duckdb"
   ]
  },
  {
   "cell_type": "markdown",
   "metadata": {},
   "source": [
    "## Load data from local file to duckdb using yml job declaration"
   ]
  },
  {
   "cell_type": "code",
   "execution_count": 3,
   "metadata": {},
   "outputs": [
    {
     "name": "stdout",
     "output_type": "stream",
     "text": [
      "[2022-11-07 22:55:45,887] INFO - inbound 0.0.3 | Starting job: CSV to DuckDB (write-difficult-room). Source: file. Target: duckdb\n",
      "[2022-11-07 22:55:45,901] INFO - inbound 0.0.3 | Batch number 1 of length 10 returned after 3533692 seconds\n",
      "[2022-11-07 22:55:45,911] INFO - inbound 0.0.3 | Job  CSV to DuckDB (write-difficult-room) completed in 23716870 seconds. Result: Finished in 23.000 seconds. Result: {\"result\": \"DONE\", \"rows\": \"10\", \"size\": \"368\", \"duration\": \"23.000\", \"batchcount\": \"3\"}\n"
     ]
    }
   ],
   "source": [
    "from inbound.core.jobs import run_job\n",
    "\n",
    "res = run_job(\"csv_duckdb.yml\")"
   ]
  },
  {
   "cell_type": "code",
   "execution_count": 4,
   "metadata": {},
   "outputs": [
    {
     "data": {
      "text/html": [
       "<div>\n",
       "<style scoped>\n",
       "    .dataframe tbody tr th:only-of-type {\n",
       "        vertical-align: middle;\n",
       "    }\n",
       "\n",
       "    .dataframe tbody tr th {\n",
       "        vertical-align: top;\n",
       "    }\n",
       "\n",
       "    .dataframe thead th {\n",
       "        text-align: right;\n",
       "    }\n",
       "</style>\n",
       "<table border=\"1\" class=\"dataframe\">\n",
       "  <thead>\n",
       "    <tr style=\"text-align: right;\">\n",
       "      <th></th>\n",
       "      <th>Code</th>\n",
       "      <th>Job_search_methods</th>\n",
       "      <th>Unemployed_census_usually_resident_population_count_aged_15_years_and_over</th>\n",
       "    </tr>\n",
       "  </thead>\n",
       "  <tbody>\n",
       "    <tr>\n",
       "      <th>0</th>\n",
       "      <td>1</td>\n",
       "      <td>Looked at job advertisements</td>\n",
       "      <td>127077</td>\n",
       "    </tr>\n",
       "    <tr>\n",
       "      <th>1</th>\n",
       "      <td>2</td>\n",
       "      <td>Wrote, phoned or applied in person to an employer</td>\n",
       "      <td>71487</td>\n",
       "    </tr>\n",
       "    <tr>\n",
       "      <th>2</th>\n",
       "      <td>3</td>\n",
       "      <td>Contacted Work and Income to look for a job</td>\n",
       "      <td>33369</td>\n",
       "    </tr>\n",
       "    <tr>\n",
       "      <th>3</th>\n",
       "      <td>4</td>\n",
       "      <td>Contacted friends or relatives for help in fin...</td>\n",
       "      <td>69543</td>\n",
       "    </tr>\n",
       "    <tr>\n",
       "      <th>4</th>\n",
       "      <td>5</td>\n",
       "      <td>Contacted career advisers or vocational guidan...</td>\n",
       "      <td>22311</td>\n",
       "    </tr>\n",
       "  </tbody>\n",
       "</table>\n",
       "</div>"
      ],
      "text/plain": [
       "  Code                                 Job_search_methods  \\\n",
       "0    1                       Looked at job advertisements   \n",
       "1    2  Wrote, phoned or applied in person to an employer   \n",
       "2    3        Contacted Work and Income to look for a job   \n",
       "3    4  Contacted friends or relatives for help in fin...   \n",
       "4    5  Contacted career advisers or vocational guidan...   \n",
       "\n",
       "   Unemployed_census_usually_resident_population_count_aged_15_years_and_over  \n",
       "0                                             127077                           \n",
       "1                                              71487                           \n",
       "2                                              33369                           \n",
       "3                                              69543                           \n",
       "4                                              22311                           "
      ]
     },
     "execution_count": 4,
     "metadata": {},
     "output_type": "execute_result"
    }
   ],
   "source": [
    "con = duckdb.connect(\"tempdb\")\n",
    "df = con.execute(\"SELECT * FROM test\").df()\n",
    "df.head()"
   ]
  }
 ],
 "metadata": {
  "kernelspec": {
   "display_name": "Python 3.9.13 ('.venv': venv)",
   "language": "python",
   "name": "python3"
  },
  "language_info": {
   "codemirror_mode": {
    "name": "ipython",
    "version": 3
   },
   "file_extension": ".py",
   "mimetype": "text/x-python",
   "name": "python",
   "nbconvert_exporter": "python",
   "pygments_lexer": "ipython3",
   "version": "3.9.12"
  },
  "orig_nbformat": 4,
  "vscode": {
   "interpreter": {
    "hash": "62f026912ebec30755d22cae891b924025f5e2a9bfc90b65d0f81fd092db2c71"
   }
  }
 },
 "nbformat": 4,
 "nbformat_minor": 2
}
