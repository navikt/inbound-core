{
 "cells": [
  {
   "cell_type": "code",
   "execution_count": 1,
   "metadata": {},
   "outputs": [],
   "source": [
    "#!pip install git+https://github.com/navikt/inbound@main"
   ]
  },
  {
   "cell_type": "code",
   "execution_count": 1,
   "metadata": {},
   "outputs": [],
   "source": [
    "import duckdb\n",
    "from inbound.core.jobs import run_job"
   ]
  },
  {
   "cell_type": "markdown",
   "metadata": {},
   "source": [
    "## Load data from local file to duckdb"
   ]
  },
  {
   "cell_type": "code",
   "execution_count": 2,
   "metadata": {},
   "outputs": [
    {
     "name": "stdout",
     "output_type": "stream",
     "text": [
      "[2022-11-07 22:48:27,907] INFO - inbound 0.0.3 | Starting job: CSV to DuckDB (say-poor-place). Source: file. Target: duckdb\n",
      "[2022-11-07 22:48:27,924] INFO - inbound 0.0.3 | Batch number 1 of length 3027 returned after 6306900 seconds\n",
      "[2022-11-07 22:48:27,997] INFO - inbound 0.0.3 | Job  CSV to DuckDB (say-poor-place) completed in 90375822 seconds. Result: Finished in 90.000 seconds. Result: {\"result\": \"DONE\", \"rows\": \"3027\", \"size\": \"193856\", \"duration\": \"90.000\", \"batchcount\": \"3\"}\n"
     ]
    }
   ],
   "source": [
    "job = {\"jobs\": [\n",
    "        {\n",
    "            \"name\": \"CSV to DuckDB\",\n",
    "            \"source\": {\n",
    "                \"type\": \"file\", \n",
    "                \"spec\": {\n",
    "                    \"path\": \"locations.csv\",\n",
    "                    \"sep\": \"|\",\n",
    "                    \"format\": \"log\",\n",
    "                    \"source\": \"local file\",\n",
    "                    \"interface\": \"csv\",\n",
    "                    \"row_id\": \"id\",\n",
    "                }\n",
    "            },\n",
    "            \"target\": {\n",
    "                \"type\": \"duckdb\",\n",
    "                \"spec\": {\n",
    "                    \"table\": \"test\",\n",
    "                    \"database\": \"tempdb\",\n",
    "                },\n",
    "            },\n",
    "        }\n",
    "    ]}\n",
    "\n",
    "res = run_job(job)\n"
   ]
  },
  {
   "cell_type": "code",
   "execution_count": 3,
   "metadata": {},
   "outputs": [
    {
     "data": {
      "text/html": [
       "<div>\n",
       "<style scoped>\n",
       "    .dataframe tbody tr th:only-of-type {\n",
       "        vertical-align: middle;\n",
       "    }\n",
       "\n",
       "    .dataframe tbody tr th {\n",
       "        vertical-align: top;\n",
       "    }\n",
       "\n",
       "    .dataframe thead th {\n",
       "        text-align: right;\n",
       "    }\n",
       "</style>\n",
       "<table border=\"1\" class=\"dataframe\">\n",
       "  <thead>\n",
       "    <tr style=\"text-align: right;\">\n",
       "      <th></th>\n",
       "      <th>row_id</th>\n",
       "      <th>raw</th>\n",
       "      <th>source</th>\n",
       "      <th>interface</th>\n",
       "      <th>loader</th>\n",
       "      <th>job_id</th>\n",
       "      <th>timestamp</th>\n",
       "      <th>hash</th>\n",
       "    </tr>\n",
       "  </thead>\n",
       "  <tbody>\n",
       "    <tr>\n",
       "      <th>0</th>\n",
       "      <td>0</td>\n",
       "      <td>{\"Unnamed: 0\": 0, \"id\": 0, \"state\": \"District ...</td>\n",
       "      <td>local file</td>\n",
       "      <td>csv</td>\n",
       "      <td>inbound-0.0.3</td>\n",
       "      <td>say-poor-place</td>\n",
       "      <td>1.667858e+09</td>\n",
       "      <td>308e7ed376f1086ce4549c2873c1d7e0</td>\n",
       "    </tr>\n",
       "    <tr>\n",
       "      <th>1</th>\n",
       "      <td>1</td>\n",
       "      <td>{\"Unnamed: 0\": 1, \"id\": 1, \"state\": \"District ...</td>\n",
       "      <td>local file</td>\n",
       "      <td>csv</td>\n",
       "      <td>inbound-0.0.3</td>\n",
       "      <td>say-poor-place</td>\n",
       "      <td>1.667858e+09</td>\n",
       "      <td>ef7de1e18861452af721dc5a2d939f50</td>\n",
       "    </tr>\n",
       "    <tr>\n",
       "      <th>2</th>\n",
       "      <td>2</td>\n",
       "      <td>{\"Unnamed: 0\": 2, \"id\": 2, \"state\": \"District ...</td>\n",
       "      <td>local file</td>\n",
       "      <td>csv</td>\n",
       "      <td>inbound-0.0.3</td>\n",
       "      <td>say-poor-place</td>\n",
       "      <td>1.667858e+09</td>\n",
       "      <td>9d629673277436b0ae9a996b2915d416</td>\n",
       "    </tr>\n",
       "    <tr>\n",
       "      <th>3</th>\n",
       "      <td>3</td>\n",
       "      <td>{\"Unnamed: 0\": 3, \"id\": 3, \"state\": \"District ...</td>\n",
       "      <td>local file</td>\n",
       "      <td>csv</td>\n",
       "      <td>inbound-0.0.3</td>\n",
       "      <td>say-poor-place</td>\n",
       "      <td>1.667858e+09</td>\n",
       "      <td>48c08cc5b2fd9e75254b9b900bafa40b</td>\n",
       "    </tr>\n",
       "    <tr>\n",
       "      <th>4</th>\n",
       "      <td>4</td>\n",
       "      <td>{\"Unnamed: 0\": 4, \"id\": 4, \"state\": \"District ...</td>\n",
       "      <td>local file</td>\n",
       "      <td>csv</td>\n",
       "      <td>inbound-0.0.3</td>\n",
       "      <td>say-poor-place</td>\n",
       "      <td>1.667858e+09</td>\n",
       "      <td>68d85e4009c1ba844210f57f8fad105b</td>\n",
       "    </tr>\n",
       "  </tbody>\n",
       "</table>\n",
       "</div>"
      ],
      "text/plain": [
       "   row_id                                                raw      source  \\\n",
       "0       0  {\"Unnamed: 0\": 0, \"id\": 0, \"state\": \"District ...  local file   \n",
       "1       1  {\"Unnamed: 0\": 1, \"id\": 1, \"state\": \"District ...  local file   \n",
       "2       2  {\"Unnamed: 0\": 2, \"id\": 2, \"state\": \"District ...  local file   \n",
       "3       3  {\"Unnamed: 0\": 3, \"id\": 3, \"state\": \"District ...  local file   \n",
       "4       4  {\"Unnamed: 0\": 4, \"id\": 4, \"state\": \"District ...  local file   \n",
       "\n",
       "  interface     loader          job_id     timestamp  \\\n",
       "0       csv  inbound-0.0.3  say-poor-place  1.667858e+09   \n",
       "1       csv  inbound-0.0.3  say-poor-place  1.667858e+09   \n",
       "2       csv  inbound-0.0.3  say-poor-place  1.667858e+09   \n",
       "3       csv  inbound-0.0.3  say-poor-place  1.667858e+09   \n",
       "4       csv  inbound-0.0.3  say-poor-place  1.667858e+09   \n",
       "\n",
       "                               hash  \n",
       "0  308e7ed376f1086ce4549c2873c1d7e0  \n",
       "1  ef7de1e18861452af721dc5a2d939f50  \n",
       "2  9d629673277436b0ae9a996b2915d416  \n",
       "3  48c08cc5b2fd9e75254b9b900bafa40b  \n",
       "4  68d85e4009c1ba844210f57f8fad105b  "
      ]
     },
     "execution_count": 3,
     "metadata": {},
     "output_type": "execute_result"
    }
   ],
   "source": [
    "con = duckdb.connect(\"tempdb\")\n",
    "df = con.execute(\"SELECT * FROM test\").df()\n",
    "con.close()\n",
    "df.head()"
   ]
  }
 ],
 "metadata": {
  "kernelspec": {
   "display_name": "Python 3.9.13 ('.venv': venv)",
   "language": "python",
   "name": "python3"
  },
  "language_info": {
   "codemirror_mode": {
    "name": "ipython",
    "version": 3
   },
   "file_extension": ".py",
   "mimetype": "text/x-python",
   "name": "python",
   "nbconvert_exporter": "python",
   "pygments_lexer": "ipython3",
   "version": "3.9.12"
  },
  "orig_nbformat": 4,
  "vscode": {
   "interpreter": {
    "hash": "62f026912ebec30755d22cae891b924025f5e2a9bfc90b65d0f81fd092db2c71"
   }
  }
 },
 "nbformat": 4,
 "nbformat_minor": 2
}
