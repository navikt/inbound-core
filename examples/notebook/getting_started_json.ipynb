{
 "cells": [
  {
   "cell_type": "code",
   "execution_count": 1,
   "metadata": {},
   "outputs": [],
   "source": [
    "#!pip install git+https://github.com/navikt/inbound-core@main"
   ]
  },
  {
   "cell_type": "markdown",
   "metadata": {},
   "source": [
    "## Load data from local file to duckdb"
   ]
  },
  {
   "cell_type": "code",
   "execution_count": 2,
   "metadata": {},
   "outputs": [
    {
     "name": "stderr",
     "output_type": "stream",
     "text": [
      "/Users/paulbencze/Projects/inbound-core/.venv/lib/python3.9/site-packages/snowflake/connector/options.py:96: UserWarning: You have an incompatible version of 'pyarrow' installed (10.0.1), please install a version that adheres to: 'pyarrow<8.1.0,>=8.0.0; extra == \"pandas\"'\n",
      "  warn_incompatible_dep(\n"
     ]
    },
    {
     "name": "stdout",
     "output_type": "stream",
     "text": [
      "17:49:38.032 |  \u001b[1mINFO\u001b[0m | Starting job: CSV to DuckDB (remember-general-world). Source: file. Target: duckdb\n",
      "17:49:38.055 |  \u001b[1mINFO\u001b[0m | Batch number 1 of length 10 returned after 0.0084 seconds. Memory allocated: 174149/354911\n",
      "17:49:38.079 |  \u001b[1mINFO\u001b[0m | Job  () finished in 0.0468 seconds. Result: {\"result\": \"DONE\", \"rows\": \"10\", \"size\": \"368\", \"duration\": \"0.046838712999999386\", \"memory size\": \"0\", \"memory peak\": \"0\", \"batchcount\": \"1\"}\n"
     ]
    }
   ],
   "source": [
    "from inbound.core.jobs import run_job\n",
    "\n",
    "job = {\"jobs\": [\n",
    "        {\n",
    "            \"name\": \"CSV to DuckDB\",\n",
    "            \"source\": {\"type\": \"file\", \"spec\": {\"path\": \"source.csv\", \"format\": \"meta+json\"}},\n",
    "            \"target\": {\n",
    "                \"type\": \"duckdb\",\n",
    "                \"spec\": {\n",
    "                    \"table\": \"test\",\n",
    "                    \"database\": \"tempdb\",\n",
    "                },\n",
    "            },\n",
    "        }\n",
    "    ]}\n",
    "\n",
    "res = run_job(job)\n"
   ]
  },
  {
   "cell_type": "markdown",
   "metadata": {},
   "source": [
    "## Load data from url to duckdb"
   ]
  },
  {
   "cell_type": "code",
   "execution_count": 3,
   "metadata": {},
   "outputs": [
    {
     "name": "stdout",
     "output_type": "stream",
     "text": [
      "17:49:45.033 |  \u001b[1mINFO\u001b[0m | Starting job: CSV to DuckDB (remember-general-world). Source: file. Target: duckdb\n",
      "17:49:46.234 |  \u001b[1mINFO\u001b[0m | Batch number 1 of length 10000 returned after 1.1903 seconds. Memory allocated: 7454865/13164727\n",
      "17:49:46.317 |  \u001b[1mINFO\u001b[0m | Batch number 2 of length 10000 returned after 1.2737 seconds. Memory allocated: 8065572/13164727\n",
      "17:49:46.401 |  \u001b[1mINFO\u001b[0m | Batch number 3 of length 10000 returned after 1.3571 seconds. Memory allocated: 8048965/13164727\n",
      "17:49:46.481 |  \u001b[1mINFO\u001b[0m | Batch number 4 of length 10000 returned after 1.4375 seconds. Memory allocated: 8033093/13164727\n",
      "17:49:46.569 |  \u001b[1mINFO\u001b[0m | Batch number 5 of length 10000 returned after 1.5251 seconds. Memory allocated: 8034766/13164727\n",
      "17:49:46.653 |  \u001b[1mINFO\u001b[0m | Batch number 6 of length 9040 returned after 1.6097 seconds. Memory allocated: 7723626/13164727\n",
      "17:49:46.826 |  \u001b[1mINFO\u001b[0m | Job  () finished in 1.793 seconds. Result: {\"result\": \"DONE\", \"rows\": \"59040\", \"size\": \"2834708\", \"duration\": \"1.7930362810000025\", \"memory size\": \"0\", \"memory peak\": \"0\", \"batchcount\": \"1\"}\n"
     ]
    }
   ],
   "source": [
    "job = {\"jobs\": [\n",
    "        {\n",
    "            \"name\": \"CSV to DuckDB\",\n",
    "            \"source\": {\"type\": \"file\", \"spec\": {\"url\": \"http://data.ssb.no/api/v0/dataset/1054.csv?lang=en\"}},\n",
    "            \"target\": {\n",
    "                \"type\": \"duckdb\",\n",
    "                \"spec\": {\n",
    "                    \"table\": \"ssb\",\n",
    "                    \"database\": \"tempdb\",\n",
    "                },\n",
    "            },\n",
    "        }\n",
    "    ]}\n",
    "\n",
    "res = run_job(job)\n"
   ]
  },
  {
   "cell_type": "code",
   "execution_count": 4,
   "metadata": {},
   "outputs": [
    {
     "data": {
      "text/html": [
       "<div>\n",
       "<style scoped>\n",
       "    .dataframe tbody tr th:only-of-type {\n",
       "        vertical-align: middle;\n",
       "    }\n",
       "\n",
       "    .dataframe tbody tr th {\n",
       "        vertical-align: top;\n",
       "    }\n",
       "\n",
       "    .dataframe thead th {\n",
       "        text-align: right;\n",
       "    }\n",
       "</style>\n",
       "<table border=\"1\" class=\"dataframe\">\n",
       "  <thead>\n",
       "    <tr style=\"text-align: right;\">\n",
       "      <th></th>\n",
       "      <th>sex</th>\n",
       "      <th>age</th>\n",
       "      <th>type of adjustment</th>\n",
       "      <th>month</th>\n",
       "      <th>contents</th>\n",
       "      <th>13760: Labour force, employment, unemployment and man-weeks worked for persons aged 15-74, by sex, age, type of adjustment, month and contents</th>\n",
       "    </tr>\n",
       "  </thead>\n",
       "  <tbody>\n",
       "    <tr>\n",
       "      <th>0</th>\n",
       "      <td>0 Both sexes</td>\n",
       "      <td>15-74 15-74 years</td>\n",
       "      <td>T Trend</td>\n",
       "      <td>2006M01</td>\n",
       "      <td>Labour force (1000 persons)</td>\n",
       "      <td>2449</td>\n",
       "    </tr>\n",
       "    <tr>\n",
       "      <th>1</th>\n",
       "      <td>0 Both sexes</td>\n",
       "      <td>15-74 15-74 years</td>\n",
       "      <td>T Trend</td>\n",
       "      <td>2006M01</td>\n",
       "      <td>Total employment (1000 persons)</td>\n",
       "      <td>2344</td>\n",
       "    </tr>\n",
       "    <tr>\n",
       "      <th>2</th>\n",
       "      <td>0 Both sexes</td>\n",
       "      <td>15-74 15-74 years</td>\n",
       "      <td>T Trend</td>\n",
       "      <td>2006M01</td>\n",
       "      <td>Man-weeks worked of 37.5 hours (1000)</td>\n",
       "      <td>1787</td>\n",
       "    </tr>\n",
       "    <tr>\n",
       "      <th>3</th>\n",
       "      <td>0 Both sexes</td>\n",
       "      <td>15-74 15-74 years</td>\n",
       "      <td>T Trend</td>\n",
       "      <td>2006M01</td>\n",
       "      <td>Unemployment (LFS) (1000 persons)</td>\n",
       "      <td>105</td>\n",
       "    </tr>\n",
       "    <tr>\n",
       "      <th>4</th>\n",
       "      <td>0 Both sexes</td>\n",
       "      <td>15-74 15-74 years</td>\n",
       "      <td>T Trend</td>\n",
       "      <td>2006M01</td>\n",
       "      <td>Labour force in per cent of the population</td>\n",
       "      <td>..</td>\n",
       "    </tr>\n",
       "  </tbody>\n",
       "</table>\n",
       "</div>"
      ],
      "text/plain": [
       "            sex                age type of adjustment    month  \\\n",
       "0  0 Both sexes  15-74 15-74 years            T Trend  2006M01   \n",
       "1  0 Both sexes  15-74 15-74 years            T Trend  2006M01   \n",
       "2  0 Both sexes  15-74 15-74 years            T Trend  2006M01   \n",
       "3  0 Both sexes  15-74 15-74 years            T Trend  2006M01   \n",
       "4  0 Both sexes  15-74 15-74 years            T Trend  2006M01   \n",
       "\n",
       "                                     contents  \\\n",
       "0                 Labour force (1000 persons)   \n",
       "1             Total employment (1000 persons)   \n",
       "2       Man-weeks worked of 37.5 hours (1000)   \n",
       "3           Unemployment (LFS) (1000 persons)   \n",
       "4  Labour force in per cent of the population   \n",
       "\n",
       "  13760: Labour force, employment, unemployment and man-weeks worked for persons aged 15-74, by sex, age, type of adjustment, month and contents  \n",
       "0                                               2449                                                                                              \n",
       "1                                               2344                                                                                              \n",
       "2                                               1787                                                                                              \n",
       "3                                                105                                                                                              \n",
       "4                                                 ..                                                                                              "
      ]
     },
     "execution_count": 4,
     "metadata": {},
     "output_type": "execute_result"
    }
   ],
   "source": [
    "import duckdb\n",
    "\n",
    "con = duckdb.connect(\"tempdb\")\n",
    "df = con.execute(\"SELECT * FROM ssb\").df()\n",
    "df.head()"
   ]
  },
  {
   "cell_type": "markdown",
   "metadata": {},
   "source": [
    "## Load data from url with transformations"
   ]
  },
  {
   "cell_type": "code",
   "execution_count": 7,
   "metadata": {},
   "outputs": [
    {
     "name": "stdout",
     "output_type": "stream",
     "text": [
      "15:45:48.173 |  \u001b[1mINFO\u001b[0m | Starting job: CSV to DuckDB (buy-easy-back). Source: file. Target: duckdb\n",
      "15:45:49.199 |  \u001b[1mINFO\u001b[0m | Batch number 1 of length 10000 returned after 1.0226 seconds. Memory allocated: 7407.436\n",
      "15:45:49.336 |  \u001b[1mINFO\u001b[0m | Batch number 2 of length 10000 returned after 1.1598 seconds. Memory allocated: 8582.938\n",
      "15:45:49.447 |  \u001b[1mINFO\u001b[0m | Batch number 3 of length 10000 returned after 1.2709 seconds. Memory allocated: 8566.565\n",
      "15:45:49.555 |  \u001b[1mINFO\u001b[0m | Batch number 4 of length 10000 returned after 1.3795 seconds. Memory allocated: 8551.53\n",
      "15:45:49.657 |  \u001b[1mINFO\u001b[0m | Batch number 5 of length 10000 returned after 1.4806 seconds. Memory allocated: 8546.209\n",
      "15:45:49.762 |  \u001b[1mINFO\u001b[0m | Batch number 6 of length 9040 returned after 1.5862 seconds. Memory allocated: 8234.936\n",
      "15:45:49.848 |  \u001b[1mINFO\u001b[0m | Job CSV to DuckDB () finished in 1.6741 seconds. Result: {\"result\": \"DONE\", \"rows\": \"59040\", \"size\": \"3307028\", \"duration\": \"1.6741132940000234\", \"memory allocated\": \"0\", \"batchcount\": \"1\"}\n"
     ]
    }
   ],
   "source": [
    "job = {\"jobs\": [\n",
    "        {\n",
    "            \"name\": \"CSV to DuckDB\",\n",
    "            \"source\": {\n",
    "                \"type\": \"file\", \n",
    "                \"spec\": {\n",
    "                    \"url\": \"http://data.ssb.no/api/v0/dataset/1054.csv?lang=en\",\n",
    "                    \"transformer\": \"transformer.py\" \n",
    "                    }\n",
    "                },\n",
    "            \"target\": {\n",
    "                \"type\": \"duckdb\",\n",
    "                \"spec\": {\n",
    "                    \"table\": \"ssb_transformed\",\n",
    "                    \"database\": \"tempdb\",\n",
    "                },\n",
    "            },\n",
    "        }\n",
    "    ]}\n",
    "\n",
    "res = run_job(job)"
   ]
  },
  {
   "cell_type": "code",
   "execution_count": 5,
   "metadata": {},
   "outputs": [
    {
     "data": {
      "text/html": [
       "<div>\n",
       "<style scoped>\n",
       "    .dataframe tbody tr th:only-of-type {\n",
       "        vertical-align: middle;\n",
       "    }\n",
       "\n",
       "    .dataframe tbody tr th {\n",
       "        vertical-align: top;\n",
       "    }\n",
       "\n",
       "    .dataframe thead th {\n",
       "        text-align: right;\n",
       "    }\n",
       "</style>\n",
       "<table border=\"1\" class=\"dataframe\">\n",
       "  <thead>\n",
       "    <tr style=\"text-align: right;\">\n",
       "      <th></th>\n",
       "      <th>sex</th>\n",
       "      <th>age</th>\n",
       "      <th>month</th>\n",
       "      <th>contents</th>\n",
       "      <th>13332: Employment, unemployment, labour force and  break and man-weeks worked for persons aged 15-74, by sex, age, month and contents</th>\n",
       "      <th>test</th>\n",
       "    </tr>\n",
       "  </thead>\n",
       "  <tbody>\n",
       "    <tr>\n",
       "      <th>0</th>\n",
       "      <td>2 Females</td>\n",
       "      <td>15-74 15-74 years</td>\n",
       "      <td>2010M10</td>\n",
       "      <td>Labour force, seasonally adjusted (1 000 persons)</td>\n",
       "      <td>1254</td>\n",
       "      <td>I'm transformed</td>\n",
       "    </tr>\n",
       "    <tr>\n",
       "      <th>1</th>\n",
       "      <td>2 Females</td>\n",
       "      <td>15-74 15-74 years</td>\n",
       "      <td>2010M10</td>\n",
       "      <td>Total employment (1 000 persons), seasonally a...</td>\n",
       "      <td>1213</td>\n",
       "      <td>I'm transformed</td>\n",
       "    </tr>\n",
       "    <tr>\n",
       "      <th>2</th>\n",
       "      <td>2 Females</td>\n",
       "      <td>15-74 15-74 years</td>\n",
       "      <td>2010M10</td>\n",
       "      <td>Man-weeks worked of 37.5 hours, seasonally adj...</td>\n",
       "      <td>781</td>\n",
       "      <td>I'm transformed</td>\n",
       "    </tr>\n",
       "    <tr>\n",
       "      <th>3</th>\n",
       "      <td>2 Females</td>\n",
       "      <td>15-74 15-74 years</td>\n",
       "      <td>2010M10</td>\n",
       "      <td>Unemployment (LFS) (1 000 persons), seasonally...</td>\n",
       "      <td>40</td>\n",
       "      <td>I'm transformed</td>\n",
       "    </tr>\n",
       "    <tr>\n",
       "      <th>4</th>\n",
       "      <td>2 Females</td>\n",
       "      <td>15-74 15-74 years</td>\n",
       "      <td>2010M10</td>\n",
       "      <td>Unemployment rate (LFS), seasonally adjusted</td>\n",
       "      <td>3.2</td>\n",
       "      <td>I'm transformed</td>\n",
       "    </tr>\n",
       "  </tbody>\n",
       "</table>\n",
       "</div>"
      ],
      "text/plain": [
       "         sex                age    month  \\\n",
       "0  2 Females  15-74 15-74 years  2010M10   \n",
       "1  2 Females  15-74 15-74 years  2010M10   \n",
       "2  2 Females  15-74 15-74 years  2010M10   \n",
       "3  2 Females  15-74 15-74 years  2010M10   \n",
       "4  2 Females  15-74 15-74 years  2010M10   \n",
       "\n",
       "                                            contents  \\\n",
       "0  Labour force, seasonally adjusted (1 000 persons)   \n",
       "1  Total employment (1 000 persons), seasonally a...   \n",
       "2  Man-weeks worked of 37.5 hours, seasonally adj...   \n",
       "3  Unemployment (LFS) (1 000 persons), seasonally...   \n",
       "4       Unemployment rate (LFS), seasonally adjusted   \n",
       "\n",
       "  13332: Employment, unemployment, labour force and  break and man-weeks worked for persons aged 15-74, by sex, age, month and contents  \\\n",
       "0                                               1254                                                                                      \n",
       "1                                               1213                                                                                      \n",
       "2                                                781                                                                                      \n",
       "3                                                 40                                                                                      \n",
       "4                                                3.2                                                                                      \n",
       "\n",
       "              test  \n",
       "0  I'm transformed  \n",
       "1  I'm transformed  \n",
       "2  I'm transformed  \n",
       "3  I'm transformed  \n",
       "4  I'm transformed  "
      ]
     },
     "execution_count": 5,
     "metadata": {},
     "output_type": "execute_result"
    }
   ],
   "source": [
    "con = duckdb.connect(\"tempdb\")\n",
    "df = con.execute(\"SELECT * FROM ssb\").df()\n",
    "df.head()"
   ]
  },
  {
   "cell_type": "markdown",
   "metadata": {},
   "source": [
    "## Load from url and add job metadata"
   ]
  },
  {
   "cell_type": "code",
   "execution_count": 6,
   "metadata": {},
   "outputs": [
    {
     "name": "stdout",
     "output_type": "stream",
     "text": [
      "[2022-11-07 22:51:43,415] INFO - inbound 0.0.3 | Starting job: CSV to DuckDB (mean-human-night). Source: file. Target: duckdb\n",
      "[2022-11-07 22:51:43,773] INFO - inbound 0.0.3 | Batch number 1 of length 10000 returned after 347777230 nanoseconds\n",
      "[2022-11-07 22:51:44,032] INFO - inbound 0.0.3 | Batch number 2 of length 4328 returned after 606838711 nanoseconds\n",
      "[2022-11-07 22:51:44,133] INFO - inbound 0.0.3 | Job  CSV to DuckDB (mean-human-night) completed in 718647530 nanoseconds. Result: Finished in 718.000 seconds. Result: {\"result\": \"DONE\", \"rows\": \"14328\", \"size\": \"573376\", \"duration\": \"718.000\", \"batchcount\": \"6\"}\n"
     ]
    }
   ],
   "source": [
    "job = {\"jobs\": [\n",
    "        {\n",
    "            \"name\": \"CSV to DuckDB\",\n",
    "            \"source\": {\n",
    "                \"type\": \"file\", \n",
    "                \"spec\": {\n",
    "                    \"url\": \"http://data.ssb.no/api/v0/dataset/1054.csv?lang=en\",\n",
    "                    \"format\": \"meta+json\", \n",
    "                    \"meta\": {\n",
    "                        \"system\": \"SSB Statistikkbank\",\n",
    "                        \"api\": \"http://data.ssb.no/api/v0/dataset/1054.csv?lang=en\",\n",
    "                        \"description\": \"Sysselsetting og arbeidsledighet (AKU), etter kjønn og alder. Hele datasettet 2006M02 - siste måned\"\n",
    "                    }\n",
    "                 }\n",
    "            },\n",
    "            \"target\": {\n",
    "                \"type\": \"duckdb\",\n",
    "                \"spec\": {\n",
    "                    \"table\": \"ssb\",\n",
    "                    \"database\": \"tempdb\",\n",
    "                },\n",
    "            },\n",
    "        }\n",
    "    ]}\n",
    "\n",
    "res = run_job(job)"
   ]
  },
  {
   "cell_type": "code",
   "execution_count": 7,
   "metadata": {},
   "outputs": [
    {
     "data": {
      "text/html": [
       "<div>\n",
       "<style scoped>\n",
       "    .dataframe tbody tr th:only-of-type {\n",
       "        vertical-align: middle;\n",
       "    }\n",
       "\n",
       "    .dataframe tbody tr th {\n",
       "        vertical-align: top;\n",
       "    }\n",
       "\n",
       "    .dataframe thead th {\n",
       "        text-align: right;\n",
       "    }\n",
       "</style>\n",
       "<table border=\"1\" class=\"dataframe\">\n",
       "  <thead>\n",
       "    <tr style=\"text-align: right;\">\n",
       "      <th></th>\n",
       "      <th>system</th>\n",
       "      <th>api</th>\n",
       "      <th>description</th>\n",
       "      <th>loaded</th>\n",
       "      <th>data</th>\n",
       "    </tr>\n",
       "  </thead>\n",
       "  <tbody>\n",
       "    <tr>\n",
       "      <th>0</th>\n",
       "      <td>SSB Statistikkbank</td>\n",
       "      <td>http://data.ssb.no/api/v0/dataset/1054.csv?lan...</td>\n",
       "      <td>Sysselsetting og arbeidsledighet (AKU), etter ...</td>\n",
       "      <td>2022-11-07 22:50:38.825981</td>\n",
       "      <td>{'sex': '2 Females', 'age': '15-74 15-74 years...</td>\n",
       "    </tr>\n",
       "    <tr>\n",
       "      <th>1</th>\n",
       "      <td>SSB Statistikkbank</td>\n",
       "      <td>http://data.ssb.no/api/v0/dataset/1054.csv?lan...</td>\n",
       "      <td>Sysselsetting og arbeidsledighet (AKU), etter ...</td>\n",
       "      <td>2022-11-07 22:50:38.825981</td>\n",
       "      <td>{'sex': '2 Females', 'age': '15-74 15-74 years...</td>\n",
       "    </tr>\n",
       "    <tr>\n",
       "      <th>2</th>\n",
       "      <td>SSB Statistikkbank</td>\n",
       "      <td>http://data.ssb.no/api/v0/dataset/1054.csv?lan...</td>\n",
       "      <td>Sysselsetting og arbeidsledighet (AKU), etter ...</td>\n",
       "      <td>2022-11-07 22:50:38.825981</td>\n",
       "      <td>{'sex': '2 Females', 'age': '15-74 15-74 years...</td>\n",
       "    </tr>\n",
       "    <tr>\n",
       "      <th>3</th>\n",
       "      <td>SSB Statistikkbank</td>\n",
       "      <td>http://data.ssb.no/api/v0/dataset/1054.csv?lan...</td>\n",
       "      <td>Sysselsetting og arbeidsledighet (AKU), etter ...</td>\n",
       "      <td>2022-11-07 22:50:38.825981</td>\n",
       "      <td>{'sex': '2 Females', 'age': '15-74 15-74 years...</td>\n",
       "    </tr>\n",
       "    <tr>\n",
       "      <th>4</th>\n",
       "      <td>SSB Statistikkbank</td>\n",
       "      <td>http://data.ssb.no/api/v0/dataset/1054.csv?lan...</td>\n",
       "      <td>Sysselsetting og arbeidsledighet (AKU), etter ...</td>\n",
       "      <td>2022-11-07 22:50:38.825981</td>\n",
       "      <td>{'sex': '2 Females', 'age': '15-74 15-74 years...</td>\n",
       "    </tr>\n",
       "  </tbody>\n",
       "</table>\n",
       "</div>"
      ],
      "text/plain": [
       "               system                                                api  \\\n",
       "0  SSB Statistikkbank  http://data.ssb.no/api/v0/dataset/1054.csv?lan...   \n",
       "1  SSB Statistikkbank  http://data.ssb.no/api/v0/dataset/1054.csv?lan...   \n",
       "2  SSB Statistikkbank  http://data.ssb.no/api/v0/dataset/1054.csv?lan...   \n",
       "3  SSB Statistikkbank  http://data.ssb.no/api/v0/dataset/1054.csv?lan...   \n",
       "4  SSB Statistikkbank  http://data.ssb.no/api/v0/dataset/1054.csv?lan...   \n",
       "\n",
       "                                         description  \\\n",
       "0  Sysselsetting og arbeidsledighet (AKU), etter ...   \n",
       "1  Sysselsetting og arbeidsledighet (AKU), etter ...   \n",
       "2  Sysselsetting og arbeidsledighet (AKU), etter ...   \n",
       "3  Sysselsetting og arbeidsledighet (AKU), etter ...   \n",
       "4  Sysselsetting og arbeidsledighet (AKU), etter ...   \n",
       "\n",
       "                      loaded  \\\n",
       "0 2022-11-07 22:50:38.825981   \n",
       "1 2022-11-07 22:50:38.825981   \n",
       "2 2022-11-07 22:50:38.825981   \n",
       "3 2022-11-07 22:50:38.825981   \n",
       "4 2022-11-07 22:50:38.825981   \n",
       "\n",
       "                                                data  \n",
       "0  {'sex': '2 Females', 'age': '15-74 15-74 years...  \n",
       "1  {'sex': '2 Females', 'age': '15-74 15-74 years...  \n",
       "2  {'sex': '2 Females', 'age': '15-74 15-74 years...  \n",
       "3  {'sex': '2 Females', 'age': '15-74 15-74 years...  \n",
       "4  {'sex': '2 Females', 'age': '15-74 15-74 years...  "
      ]
     },
     "execution_count": 7,
     "metadata": {},
     "output_type": "execute_result"
    }
   ],
   "source": [
    "con = duckdb.connect(\"tempdb\")\n",
    "df = con.execute(\"SELECT * FROM ssb\").df()\n",
    "df.head()"
   ]
  }
 ],
 "metadata": {
  "kernelspec": {
   "display_name": "Python 3.9.12 ('.venv': poetry)",
   "language": "python",
   "name": "python3"
  },
  "language_info": {
   "codemirror_mode": {
    "name": "ipython",
    "version": 3
   },
   "file_extension": ".py",
   "mimetype": "text/x-python",
   "name": "python",
   "nbconvert_exporter": "python",
   "pygments_lexer": "ipython3",
   "version": "3.9.12"
  },
  "orig_nbformat": 4,
  "vscode": {
   "interpreter": {
    "hash": "b30fab21faf7fea95b8a6c2081619dd443ae22c42cff61793c00b41592c97504"
   }
  }
 },
 "nbformat": 4,
 "nbformat_minor": 2
}
