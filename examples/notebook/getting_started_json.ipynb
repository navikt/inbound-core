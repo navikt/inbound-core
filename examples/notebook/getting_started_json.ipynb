{
 "cells": [
  {
   "cell_type": "code",
   "execution_count": 1,
   "metadata": {},
   "outputs": [],
   "source": [
    "#!pip install git+https://github.com/navikt/inbound@main"
   ]
  },
  {
   "cell_type": "markdown",
   "metadata": {},
   "source": [
    "## Load data from local file to duckdb"
   ]
  },
  {
   "cell_type": "code",
   "execution_count": 1,
   "metadata": {},
   "outputs": [
    {
     "name": "stdout",
     "output_type": "stream",
     "text": [
      "[2022-11-07 22:51:20,243] INFO - inbound 0.0.3 | Starting job: CSV to DuckDB (mean-human-night). Source: file. Target: duckdb\n",
      "[2022-11-07 22:51:20,255] INFO - inbound 0.0.3 | Batch number 1 of length 10 returned after 3722922 nanoseconds\n",
      "[2022-11-07 22:51:20,265] INFO - inbound 0.0.3 | Job  CSV to DuckDB (mean-human-night) completed in 22460066 nanoseconds. Result: Finished in 22.000 seconds. Result: {\"result\": \"DONE\", \"rows\": \"10\", \"size\": \"368\", \"duration\": \"22.000\", \"batchcount\": \"3\"}\n"
     ]
    }
   ],
   "source": [
    "from inbound.core.jobs import run_job\n",
    "\n",
    "job = {\"jobs\": [\n",
    "        {\n",
    "            \"name\": \"CSV to DuckDB\",\n",
    "            \"source\": {\"type\": \"file\", \"spec\": {\"path\": \"source.csv\", \"format\": \"meta+json\"}},\n",
    "            \"target\": {\n",
    "                \"type\": \"duckdb\",\n",
    "                \"spec\": {\n",
    "                    \"table\": \"test\",\n",
    "                    \"database\": \"tempdb\",\n",
    "                },\n",
    "            },\n",
    "        }\n",
    "    ]}\n",
    "\n",
    "res = run_job(job)\n"
   ]
  },
  {
   "cell_type": "markdown",
   "metadata": {},
   "source": [
    "## Load data from url to duckdb"
   ]
  },
  {
   "cell_type": "code",
   "execution_count": 2,
   "metadata": {},
   "outputs": [
    {
     "name": "stdout",
     "output_type": "stream",
     "text": [
      "[2022-11-07 22:51:24,825] INFO - inbound 0.0.3 | Starting job: CSV to DuckDB (mean-human-night). Source: file. Target: duckdb\n",
      "[2022-11-07 22:51:25,329] INFO - inbound 0.0.3 | Batch number 1 of length 10000 returned after 493789456 nanoseconds\n",
      "[2022-11-07 22:51:25,355] INFO - inbound 0.0.3 | Batch number 2 of length 4328 returned after 519692770 nanoseconds\n",
      "[2022-11-07 22:51:25,376] INFO - inbound 0.0.3 | Job  CSV to DuckDB (mean-human-night) completed in 550398016 nanoseconds. Result: Finished in 550.000 seconds. Result: {\"result\": \"DONE\", \"rows\": \"14328\", \"size\": \"573380\", \"duration\": \"550.000\", \"batchcount\": \"6\"}\n"
     ]
    }
   ],
   "source": [
    "job = {\"jobs\": [\n",
    "        {\n",
    "            \"name\": \"CSV to DuckDB\",\n",
    "            \"source\": {\"type\": \"file\", \"spec\": {\"url\": \"http://data.ssb.no/api/v0/dataset/1054.csv?lang=en\"}},\n",
    "            \"target\": {\n",
    "                \"type\": \"duckdb\",\n",
    "                \"spec\": {\n",
    "                    \"table\": \"ssb\",\n",
    "                    \"database\": \"tempdb\",\n",
    "                },\n",
    "            },\n",
    "        }\n",
    "    ]}\n",
    "\n",
    "res = run_job(job)\n"
   ]
  },
  {
   "cell_type": "code",
   "execution_count": 3,
   "metadata": {},
   "outputs": [
    {
     "data": {
      "text/html": [
       "<div>\n",
       "<style scoped>\n",
       "    .dataframe tbody tr th:only-of-type {\n",
       "        vertical-align: middle;\n",
       "    }\n",
       "\n",
       "    .dataframe tbody tr th {\n",
       "        vertical-align: top;\n",
       "    }\n",
       "\n",
       "    .dataframe thead th {\n",
       "        text-align: right;\n",
       "    }\n",
       "</style>\n",
       "<table border=\"1\" class=\"dataframe\">\n",
       "  <thead>\n",
       "    <tr style=\"text-align: right;\">\n",
       "      <th></th>\n",
       "      <th>sex</th>\n",
       "      <th>age</th>\n",
       "      <th>month</th>\n",
       "      <th>contents</th>\n",
       "      <th>13332: Employment, unemployment, labour force and  break and man-weeks worked for persons aged 15-74, by sex, age, month and contents</th>\n",
       "    </tr>\n",
       "  </thead>\n",
       "  <tbody>\n",
       "    <tr>\n",
       "      <th>0</th>\n",
       "      <td>2 Females</td>\n",
       "      <td>15-74 15-74 years</td>\n",
       "      <td>2010M10</td>\n",
       "      <td>Labour force, seasonally adjusted (1 000 persons)</td>\n",
       "      <td>1254</td>\n",
       "    </tr>\n",
       "    <tr>\n",
       "      <th>1</th>\n",
       "      <td>2 Females</td>\n",
       "      <td>15-74 15-74 years</td>\n",
       "      <td>2010M10</td>\n",
       "      <td>Total employment (1 000 persons), seasonally a...</td>\n",
       "      <td>1213</td>\n",
       "    </tr>\n",
       "    <tr>\n",
       "      <th>2</th>\n",
       "      <td>2 Females</td>\n",
       "      <td>15-74 15-74 years</td>\n",
       "      <td>2010M10</td>\n",
       "      <td>Man-weeks worked of 37.5 hours, seasonally adj...</td>\n",
       "      <td>781</td>\n",
       "    </tr>\n",
       "    <tr>\n",
       "      <th>3</th>\n",
       "      <td>2 Females</td>\n",
       "      <td>15-74 15-74 years</td>\n",
       "      <td>2010M10</td>\n",
       "      <td>Unemployment (LFS) (1 000 persons), seasonally...</td>\n",
       "      <td>40</td>\n",
       "    </tr>\n",
       "    <tr>\n",
       "      <th>4</th>\n",
       "      <td>2 Females</td>\n",
       "      <td>15-74 15-74 years</td>\n",
       "      <td>2010M10</td>\n",
       "      <td>Unemployment rate (LFS), seasonally adjusted</td>\n",
       "      <td>3.2</td>\n",
       "    </tr>\n",
       "  </tbody>\n",
       "</table>\n",
       "</div>"
      ],
      "text/plain": [
       "         sex                age    month  \\\n",
       "0  2 Females  15-74 15-74 years  2010M10   \n",
       "1  2 Females  15-74 15-74 years  2010M10   \n",
       "2  2 Females  15-74 15-74 years  2010M10   \n",
       "3  2 Females  15-74 15-74 years  2010M10   \n",
       "4  2 Females  15-74 15-74 years  2010M10   \n",
       "\n",
       "                                            contents  \\\n",
       "0  Labour force, seasonally adjusted (1 000 persons)   \n",
       "1  Total employment (1 000 persons), seasonally a...   \n",
       "2  Man-weeks worked of 37.5 hours, seasonally adj...   \n",
       "3  Unemployment (LFS) (1 000 persons), seasonally...   \n",
       "4       Unemployment rate (LFS), seasonally adjusted   \n",
       "\n",
       "  13332: Employment, unemployment, labour force and  break and man-weeks worked for persons aged 15-74, by sex, age, month and contents  \n",
       "0                                               1254                                                                                     \n",
       "1                                               1213                                                                                     \n",
       "2                                                781                                                                                     \n",
       "3                                                 40                                                                                     \n",
       "4                                                3.2                                                                                     "
      ]
     },
     "execution_count": 3,
     "metadata": {},
     "output_type": "execute_result"
    }
   ],
   "source": [
    "import duckdb\n",
    "\n",
    "con = duckdb.connect(\"tempdb\")\n",
    "df = con.execute(\"SELECT * FROM ssb\").df()\n",
    "df.head()"
   ]
  },
  {
   "cell_type": "markdown",
   "metadata": {},
   "source": [
    "## Load data from url with transformations"
   ]
  },
  {
   "cell_type": "code",
   "execution_count": 4,
   "metadata": {},
   "outputs": [
    {
     "name": "stdout",
     "output_type": "stream",
     "text": [
      "[2022-11-07 22:51:37,328] INFO - inbound 0.0.3 | Starting job: CSV to DuckDB (mean-human-night). Source: file. Target: duckdb\n",
      "[2022-11-07 22:51:37,669] INFO - inbound 0.0.3 | Batch number 1 of length 10000 returned after 291246069 nanoseconds\n",
      "[2022-11-07 22:51:37,696] INFO - inbound 0.0.3 | Batch number 2 of length 4328 returned after 318550061 nanoseconds\n",
      "[2022-11-07 22:51:37,719] INFO - inbound 0.0.3 | Job  CSV to DuckDB (mean-human-night) completed in 391732146 nanoseconds. Result: Finished in 391.000 seconds. Result: {\"result\": \"DONE\", \"rows\": \"14328\", \"size\": \"688004\", \"duration\": \"391.000\", \"batchcount\": \"6\"}\n"
     ]
    }
   ],
   "source": [
    "job = {\"jobs\": [\n",
    "        {\n",
    "            \"name\": \"CSV to DuckDB\",\n",
    "            \"source\": {\n",
    "                \"type\": \"file\", \n",
    "                \"spec\": {\n",
    "                    \"url\": \"http://data.ssb.no/api/v0/dataset/1054.csv?lang=en\",\n",
    "                    \"transformer\": \"transformer.py\" \n",
    "                    }\n",
    "                },\n",
    "            \"target\": {\n",
    "                \"type\": \"duckdb\",\n",
    "                \"spec\": {\n",
    "                    \"table\": \"ssb\",\n",
    "                    \"database\": \"tempdb\",\n",
    "                },\n",
    "            },\n",
    "        }\n",
    "    ]}\n",
    "\n",
    "res = run_job(job)"
   ]
  },
  {
   "cell_type": "code",
   "execution_count": 5,
   "metadata": {},
   "outputs": [
    {
     "data": {
      "text/html": [
       "<div>\n",
       "<style scoped>\n",
       "    .dataframe tbody tr th:only-of-type {\n",
       "        vertical-align: middle;\n",
       "    }\n",
       "\n",
       "    .dataframe tbody tr th {\n",
       "        vertical-align: top;\n",
       "    }\n",
       "\n",
       "    .dataframe thead th {\n",
       "        text-align: right;\n",
       "    }\n",
       "</style>\n",
       "<table border=\"1\" class=\"dataframe\">\n",
       "  <thead>\n",
       "    <tr style=\"text-align: right;\">\n",
       "      <th></th>\n",
       "      <th>sex</th>\n",
       "      <th>age</th>\n",
       "      <th>month</th>\n",
       "      <th>contents</th>\n",
       "      <th>13332: Employment, unemployment, labour force and  break and man-weeks worked for persons aged 15-74, by sex, age, month and contents</th>\n",
       "      <th>test</th>\n",
       "    </tr>\n",
       "  </thead>\n",
       "  <tbody>\n",
       "    <tr>\n",
       "      <th>0</th>\n",
       "      <td>2 Females</td>\n",
       "      <td>15-74 15-74 years</td>\n",
       "      <td>2010M10</td>\n",
       "      <td>Labour force, seasonally adjusted (1 000 persons)</td>\n",
       "      <td>1254</td>\n",
       "      <td>I'm transformed</td>\n",
       "    </tr>\n",
       "    <tr>\n",
       "      <th>1</th>\n",
       "      <td>2 Females</td>\n",
       "      <td>15-74 15-74 years</td>\n",
       "      <td>2010M10</td>\n",
       "      <td>Total employment (1 000 persons), seasonally a...</td>\n",
       "      <td>1213</td>\n",
       "      <td>I'm transformed</td>\n",
       "    </tr>\n",
       "    <tr>\n",
       "      <th>2</th>\n",
       "      <td>2 Females</td>\n",
       "      <td>15-74 15-74 years</td>\n",
       "      <td>2010M10</td>\n",
       "      <td>Man-weeks worked of 37.5 hours, seasonally adj...</td>\n",
       "      <td>781</td>\n",
       "      <td>I'm transformed</td>\n",
       "    </tr>\n",
       "    <tr>\n",
       "      <th>3</th>\n",
       "      <td>2 Females</td>\n",
       "      <td>15-74 15-74 years</td>\n",
       "      <td>2010M10</td>\n",
       "      <td>Unemployment (LFS) (1 000 persons), seasonally...</td>\n",
       "      <td>40</td>\n",
       "      <td>I'm transformed</td>\n",
       "    </tr>\n",
       "    <tr>\n",
       "      <th>4</th>\n",
       "      <td>2 Females</td>\n",
       "      <td>15-74 15-74 years</td>\n",
       "      <td>2010M10</td>\n",
       "      <td>Unemployment rate (LFS), seasonally adjusted</td>\n",
       "      <td>3.2</td>\n",
       "      <td>I'm transformed</td>\n",
       "    </tr>\n",
       "  </tbody>\n",
       "</table>\n",
       "</div>"
      ],
      "text/plain": [
       "         sex                age    month  \\\n",
       "0  2 Females  15-74 15-74 years  2010M10   \n",
       "1  2 Females  15-74 15-74 years  2010M10   \n",
       "2  2 Females  15-74 15-74 years  2010M10   \n",
       "3  2 Females  15-74 15-74 years  2010M10   \n",
       "4  2 Females  15-74 15-74 years  2010M10   \n",
       "\n",
       "                                            contents  \\\n",
       "0  Labour force, seasonally adjusted (1 000 persons)   \n",
       "1  Total employment (1 000 persons), seasonally a...   \n",
       "2  Man-weeks worked of 37.5 hours, seasonally adj...   \n",
       "3  Unemployment (LFS) (1 000 persons), seasonally...   \n",
       "4       Unemployment rate (LFS), seasonally adjusted   \n",
       "\n",
       "  13332: Employment, unemployment, labour force and  break and man-weeks worked for persons aged 15-74, by sex, age, month and contents  \\\n",
       "0                                               1254                                                                                      \n",
       "1                                               1213                                                                                      \n",
       "2                                                781                                                                                      \n",
       "3                                                 40                                                                                      \n",
       "4                                                3.2                                                                                      \n",
       "\n",
       "              test  \n",
       "0  I'm transformed  \n",
       "1  I'm transformed  \n",
       "2  I'm transformed  \n",
       "3  I'm transformed  \n",
       "4  I'm transformed  "
      ]
     },
     "execution_count": 5,
     "metadata": {},
     "output_type": "execute_result"
    }
   ],
   "source": [
    "con = duckdb.connect(\"tempdb\")\n",
    "df = con.execute(\"SELECT * FROM ssb\").df()\n",
    "df.head()"
   ]
  },
  {
   "cell_type": "markdown",
   "metadata": {},
   "source": [
    "## Load from url and add job metadata"
   ]
  },
  {
   "cell_type": "code",
   "execution_count": 6,
   "metadata": {},
   "outputs": [
    {
     "name": "stdout",
     "output_type": "stream",
     "text": [
      "[2022-11-07 22:51:43,415] INFO - inbound 0.0.3 | Starting job: CSV to DuckDB (mean-human-night). Source: file. Target: duckdb\n",
      "[2022-11-07 22:51:43,773] INFO - inbound 0.0.3 | Batch number 1 of length 10000 returned after 347777230 nanoseconds\n",
      "[2022-11-07 22:51:44,032] INFO - inbound 0.0.3 | Batch number 2 of length 4328 returned after 606838711 nanoseconds\n",
      "[2022-11-07 22:51:44,133] INFO - inbound 0.0.3 | Job  CSV to DuckDB (mean-human-night) completed in 718647530 nanoseconds. Result: Finished in 718.000 seconds. Result: {\"result\": \"DONE\", \"rows\": \"14328\", \"size\": \"573376\", \"duration\": \"718.000\", \"batchcount\": \"6\"}\n"
     ]
    }
   ],
   "source": [
    "job = {\"jobs\": [\n",
    "        {\n",
    "            \"name\": \"CSV to DuckDB\",\n",
    "            \"source\": {\n",
    "                \"type\": \"file\", \n",
    "                \"spec\": {\n",
    "                    \"url\": \"http://data.ssb.no/api/v0/dataset/1054.csv?lang=en\",\n",
    "                    \"format\": \"meta+json\", \n",
    "                    \"meta\": {\n",
    "                        \"system\": \"SSB Statistikkbank\",\n",
    "                        \"api\": \"http://data.ssb.no/api/v0/dataset/1054.csv?lang=en\",\n",
    "                        \"description\": \"Sysselsetting og arbeidsledighet (AKU), etter kjønn og alder. Hele datasettet 2006M02 - siste måned\"\n",
    "                    }\n",
    "                 }\n",
    "            },\n",
    "            \"target\": {\n",
    "                \"type\": \"duckdb\",\n",
    "                \"spec\": {\n",
    "                    \"table\": \"ssb\",\n",
    "                    \"database\": \"tempdb\",\n",
    "                },\n",
    "            },\n",
    "        }\n",
    "    ]}\n",
    "\n",
    "res = run_job(job)"
   ]
  },
  {
   "cell_type": "code",
   "execution_count": 7,
   "metadata": {},
   "outputs": [
    {
     "data": {
      "text/html": [
       "<div>\n",
       "<style scoped>\n",
       "    .dataframe tbody tr th:only-of-type {\n",
       "        vertical-align: middle;\n",
       "    }\n",
       "\n",
       "    .dataframe tbody tr th {\n",
       "        vertical-align: top;\n",
       "    }\n",
       "\n",
       "    .dataframe thead th {\n",
       "        text-align: right;\n",
       "    }\n",
       "</style>\n",
       "<table border=\"1\" class=\"dataframe\">\n",
       "  <thead>\n",
       "    <tr style=\"text-align: right;\">\n",
       "      <th></th>\n",
       "      <th>system</th>\n",
       "      <th>api</th>\n",
       "      <th>description</th>\n",
       "      <th>loaded</th>\n",
       "      <th>data</th>\n",
       "    </tr>\n",
       "  </thead>\n",
       "  <tbody>\n",
       "    <tr>\n",
       "      <th>0</th>\n",
       "      <td>SSB Statistikkbank</td>\n",
       "      <td>http://data.ssb.no/api/v0/dataset/1054.csv?lan...</td>\n",
       "      <td>Sysselsetting og arbeidsledighet (AKU), etter ...</td>\n",
       "      <td>2022-11-07 22:50:38.825981</td>\n",
       "      <td>{'sex': '2 Females', 'age': '15-74 15-74 years...</td>\n",
       "    </tr>\n",
       "    <tr>\n",
       "      <th>1</th>\n",
       "      <td>SSB Statistikkbank</td>\n",
       "      <td>http://data.ssb.no/api/v0/dataset/1054.csv?lan...</td>\n",
       "      <td>Sysselsetting og arbeidsledighet (AKU), etter ...</td>\n",
       "      <td>2022-11-07 22:50:38.825981</td>\n",
       "      <td>{'sex': '2 Females', 'age': '15-74 15-74 years...</td>\n",
       "    </tr>\n",
       "    <tr>\n",
       "      <th>2</th>\n",
       "      <td>SSB Statistikkbank</td>\n",
       "      <td>http://data.ssb.no/api/v0/dataset/1054.csv?lan...</td>\n",
       "      <td>Sysselsetting og arbeidsledighet (AKU), etter ...</td>\n",
       "      <td>2022-11-07 22:50:38.825981</td>\n",
       "      <td>{'sex': '2 Females', 'age': '15-74 15-74 years...</td>\n",
       "    </tr>\n",
       "    <tr>\n",
       "      <th>3</th>\n",
       "      <td>SSB Statistikkbank</td>\n",
       "      <td>http://data.ssb.no/api/v0/dataset/1054.csv?lan...</td>\n",
       "      <td>Sysselsetting og arbeidsledighet (AKU), etter ...</td>\n",
       "      <td>2022-11-07 22:50:38.825981</td>\n",
       "      <td>{'sex': '2 Females', 'age': '15-74 15-74 years...</td>\n",
       "    </tr>\n",
       "    <tr>\n",
       "      <th>4</th>\n",
       "      <td>SSB Statistikkbank</td>\n",
       "      <td>http://data.ssb.no/api/v0/dataset/1054.csv?lan...</td>\n",
       "      <td>Sysselsetting og arbeidsledighet (AKU), etter ...</td>\n",
       "      <td>2022-11-07 22:50:38.825981</td>\n",
       "      <td>{'sex': '2 Females', 'age': '15-74 15-74 years...</td>\n",
       "    </tr>\n",
       "  </tbody>\n",
       "</table>\n",
       "</div>"
      ],
      "text/plain": [
       "               system                                                api  \\\n",
       "0  SSB Statistikkbank  http://data.ssb.no/api/v0/dataset/1054.csv?lan...   \n",
       "1  SSB Statistikkbank  http://data.ssb.no/api/v0/dataset/1054.csv?lan...   \n",
       "2  SSB Statistikkbank  http://data.ssb.no/api/v0/dataset/1054.csv?lan...   \n",
       "3  SSB Statistikkbank  http://data.ssb.no/api/v0/dataset/1054.csv?lan...   \n",
       "4  SSB Statistikkbank  http://data.ssb.no/api/v0/dataset/1054.csv?lan...   \n",
       "\n",
       "                                         description  \\\n",
       "0  Sysselsetting og arbeidsledighet (AKU), etter ...   \n",
       "1  Sysselsetting og arbeidsledighet (AKU), etter ...   \n",
       "2  Sysselsetting og arbeidsledighet (AKU), etter ...   \n",
       "3  Sysselsetting og arbeidsledighet (AKU), etter ...   \n",
       "4  Sysselsetting og arbeidsledighet (AKU), etter ...   \n",
       "\n",
       "                      loaded  \\\n",
       "0 2022-11-07 22:50:38.825981   \n",
       "1 2022-11-07 22:50:38.825981   \n",
       "2 2022-11-07 22:50:38.825981   \n",
       "3 2022-11-07 22:50:38.825981   \n",
       "4 2022-11-07 22:50:38.825981   \n",
       "\n",
       "                                                data  \n",
       "0  {'sex': '2 Females', 'age': '15-74 15-74 years...  \n",
       "1  {'sex': '2 Females', 'age': '15-74 15-74 years...  \n",
       "2  {'sex': '2 Females', 'age': '15-74 15-74 years...  \n",
       "3  {'sex': '2 Females', 'age': '15-74 15-74 years...  \n",
       "4  {'sex': '2 Females', 'age': '15-74 15-74 years...  "
      ]
     },
     "execution_count": 7,
     "metadata": {},
     "output_type": "execute_result"
    }
   ],
   "source": [
    "con = duckdb.connect(\"tempdb\")\n",
    "df = con.execute(\"SELECT * FROM ssb\").df()\n",
    "df.head()"
   ]
  }
 ],
 "metadata": {
  "kernelspec": {
   "display_name": "Python 3.9.13 ('.venv': venv)",
   "language": "python",
   "name": "python3"
  },
  "language_info": {
   "codemirror_mode": {
    "name": "ipython",
    "version": 3
   },
   "file_extension": ".py",
   "mimetype": "text/x-python",
   "name": "python",
   "nbconvert_exporter": "python",
   "pygments_lexer": "ipython3",
   "version": "3.9.12"
  },
  "orig_nbformat": 4,
  "vscode": {
   "interpreter": {
    "hash": "62f026912ebec30755d22cae891b924025f5e2a9bfc90b65d0f81fd092db2c71"
   }
  }
 },
 "nbformat": 4,
 "nbformat_minor": 2
}
