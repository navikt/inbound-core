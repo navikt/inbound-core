{
 "cells": [
  {
   "cell_type": "code",
   "execution_count": 14,
   "metadata": {},
   "outputs": [],
   "source": [
    "import pandas as pd\n",
    "import numpy as np\n",
    "import tracemalloc\n",
    "import time\n"
   ]
  },
  {
   "cell_type": "code",
   "execution_count": 2,
   "metadata": {},
   "outputs": [],
   "source": [
    "nrows = 1000000\n",
    "out_df = pd.DataFrame({\n",
    "    'age':np.random.randint(0,10,nrows),\n",
    "    'height':np.random.randint(0,10,nrows),\n",
    "})\n",
    "out_df.to_csv('test_out.csv')"
   ]
  },
  {
   "cell_type": "code",
   "execution_count": 15,
   "metadata": {},
   "outputs": [],
   "source": [
    "nrows = 10000\n",
    "out_df = pd.DataFrame({\n",
    "    'age':np.random.randint(0,10,nrows),\n",
    "    'height':np.random.randint(0,10,nrows),\n",
    "})\n",
    "out_df.to_csv('test_out_short.csv')"
   ]
  },
  {
   "cell_type": "code",
   "execution_count": 13,
   "metadata": {},
   "outputs": [
    {
     "name": "stdout",
     "output_type": "stream",
     "text": [
      "Batch 10, 1054.785/1054.842, size: 10000, sec: 0.1152, batch: 0.0062\n",
      "Batch 20, 1055.754/1055.811, size: 10000, sec: 0.1849, batch: 0.0052\n",
      "Batch 30, 1056.243/1056.3, size: 10000, sec: 0.253, batch: 0.0111\n",
      "Batch 40, 1059.196/1059.253, size: 10000, sec: 0.3191, batch: 0.0082\n",
      "Batch 50, 1059.044/1059.125, size: 10000, sec: 0.4096, batch: 0.007\n",
      "Batch 60, 1060.3/1060.379, size: 10000, sec: 0.4888, batch: 0.0082\n",
      "Batch 70, 1060.922/1061.003, size: 10000, sec: 0.5711, batch: 0.007\n",
      "Batch 80, 1062.559/1062.64, size: 10000, sec: 0.6577, batch: 0.011\n",
      "Batch 90, 1063.974/1064.055, size: 10000, sec: 0.7314, batch: 0.0086\n",
      "Batch 100, 418.829/418.909, size: 10000, sec: 0.8015, batch: 0.0047\n"
     ]
    }
   ],
   "source": [
    "chunksize = 10000\n",
    "record = []\n",
    "\n",
    "start_time = time.monotonic()\n",
    "batch_start_time = time.monotonic()\n",
    "\n",
    "tracemalloc.start()\n",
    "\n",
    "i = 0\n",
    "for chunk in pd.read_csv('test_out.csv', chunksize=chunksize):\n",
    "    i = i +1\n",
    "    duration_seconds = time.monotonic() - start_time\n",
    "    batch_duration_seconds = time.monotonic() - batch_start_time\n",
    "    batch_start_time = time.monotonic()\n",
    "    if i%10 == 0:\n",
    "         record.append({i:tracemalloc.get_traced_memory(), \"size\": len(chunk), \"sec\": round(duration_seconds,4), \"batch\": round(batch_duration_seconds,4) })\n",
    "         output = f\"Batch {i}, {tracemalloc.get_traced_memory()[0]/1000}/{tracemalloc.get_traced_memory()[0]/1000}, size: {len(chunk)}, sec: {round(duration_seconds,4)}, batch: {round(batch_duration_seconds,4)}\"\n",
    "         print(output)\n",
    "            \n",
    "tracemalloc.stop()"
   ]
  }
 ],
 "metadata": {
  "kernelspec": {
   "display_name": "Python 3.9.12 ('.venv': poetry)",
   "language": "python",
   "name": "python3"
  },
  "language_info": {
   "codemirror_mode": {
    "name": "ipython",
    "version": 3
   },
   "file_extension": ".py",
   "mimetype": "text/x-python",
   "name": "python",
   "nbconvert_exporter": "python",
   "pygments_lexer": "ipython3",
   "version": "3.9.12"
  },
  "orig_nbformat": 4,
  "vscode": {
   "interpreter": {
    "hash": "b30fab21faf7fea95b8a6c2081619dd443ae22c42cff61793c00b41592c97504"
   }
  }
 },
 "nbformat": 4,
 "nbformat_minor": 2
}
